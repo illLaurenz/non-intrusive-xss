{
 "cells": [
  {
   "cell_type": "code",
   "id": "initial_id",
   "metadata": {
    "collapsed": true,
    "ExecuteTime": {
     "end_time": "2025-02-06T19:38:14.526614Z",
     "start_time": "2025-02-06T19:38:14.498658Z"
    }
   },
   "source": [
    "from bs4 import BeautifulSoup\n",
    "from deepdiff import DeepDiff"
   ],
   "outputs": [],
   "execution_count": 8
  },
  {
   "metadata": {
    "ExecuteTime": {
     "end_time": "2025-02-06T19:38:14.693836Z",
     "start_time": "2025-02-06T19:38:14.629451Z"
    }
   },
   "cell_type": "code",
   "source": [
    "html = open(\"res/expected.html\").read()\n",
    "soup = BeautifulSoup(html, \"html.parser\")\n",
    "html2 = open(\"res/7.html\").read()\n",
    "soup2 = BeautifulSoup(html2, \"html.parser\")\n",
    "\n",
    "list(list(soup.body.children)[5].children)[8]\n",
    "list(list(soup2.body.children)[5].children)[8]"
   ],
   "id": "ecb91c5a6a101fcc",
   "outputs": [
    {
     "data": {
      "text/plain": [
       "'\\n    Welcome '"
      ]
     },
     "execution_count": 9,
     "metadata": {},
     "output_type": "execute_result"
    }
   ],
   "execution_count": 9
  },
  {
   "metadata": {
    "ExecuteTime": {
     "end_time": "2025-02-06T19:38:14.812734Z",
     "start_time": "2025-02-06T19:38:14.770073Z"
    }
   },
   "cell_type": "code",
   "source": "DeepDiff(soup, soup2).keys()",
   "id": "fed748c60f757a7c",
   "outputs": [
    {
     "data": {
      "text/plain": [
       "dict_keys(['values_changed', 'iterable_item_added', 'iterable_item_removed'])"
      ]
     },
     "execution_count": 10,
     "metadata": {},
     "output_type": "execute_result"
    }
   ],
   "execution_count": 10
  },
  {
   "metadata": {
    "ExecuteTime": {
     "end_time": "2025-02-06T19:38:14.911607Z",
     "start_time": "2025-02-06T19:38:14.871253Z"
    }
   },
   "cell_type": "code",
   "source": "DeepDiff(soup, soup2)['iterable_item_added'].keys()",
   "id": "4c32343a7d5d4063",
   "outputs": [
    {
     "data": {
      "text/plain": [
       "dict_keys(['root[2][3][5][9]'])"
      ]
     },
     "execution_count": 11,
     "metadata": {},
     "output_type": "execute_result"
    }
   ],
   "execution_count": 11
  },
  {
   "metadata": {
    "ExecuteTime": {
     "end_time": "2025-02-06T19:38:15.015982Z",
     "start_time": "2025-02-06T19:38:14.982541Z"
    }
   },
   "cell_type": "code",
   "source": "DeepDiff(soup, soup2)['iterable_item_removed'].keys()",
   "id": "9effb5072a6067c3",
   "outputs": [
    {
     "data": {
      "text/plain": [
       "dict_keys(['root[2][3][6]', 'root[2][3][7]', 'root[2][3][8]', 'root[2][3][9]', 'root[2][3][10]', 'root[2][3][11]', 'root[2][3][12]', 'root[2][3][13]', 'root[2][3][14]', 'root[2][3][15]', 'root[2][3][16]'])"
      ]
     },
     "execution_count": 12,
     "metadata": {},
     "output_type": "execute_result"
    }
   ],
   "execution_count": 12
  },
  {
   "metadata": {
    "ExecuteTime": {
     "end_time": "2025-02-06T19:38:15.086405Z",
     "start_time": "2025-02-06T19:38:15.078230Z"
    }
   },
   "cell_type": "code",
   "source": [
    "from selenium import webdriver\n",
    "\n",
    "def fire_test(payload=\"test\"):\n",
    "    driver = webdriver.Chrome()\n",
    "    driver.get(\"https://public-firing-range.appspot.com/reflected/parameter/body/400?q=\" + payload)\n",
    "    html = driver.page_source\n",
    "    driver.quit()\n",
    "    return html"
   ],
   "id": "48beca9efa2d904d",
   "outputs": [],
   "execution_count": 13
  },
  {
   "metadata": {
    "ExecuteTime": {
     "end_time": "2025-02-06T19:40:44.827889Z",
     "start_time": "2025-02-06T19:40:38.209167Z"
    }
   },
   "cell_type": "code",
   "source": [
    "expected_html = fire_test(\"test\")\n",
    "alt_expected_html = fire_test(\"alt_sane_payload\")\n",
    "payload_html = fire_test(\"<script>/*alert(1);*/</script>\")\n",
    "\n",
    "soup_expected = BeautifulSoup(expected_html, \"html.parser\")\n",
    "soup_alt_expected = BeautifulSoup(alt_expected_html, \"html.parser\")\n",
    "\n",
    "diff_expectation = DeepDiff(soup_expected, soup_alt_expected)\n",
    "print(diff_expectation.keys())\n",
    "if 'iterable_item_removed' in diff_expectation:\n",
    "    print(\"---- ITEMS REMOVE EXPECTED ----\")\n",
    "    print(diff_expectation['iterable_item_removed'].keys())\n",
    "if 'iterable_item_added' in diff_expectation:\n",
    "    print(\"---- ITEMS ADD EXPECTED ----\")\n",
    "    print(diff_expectation['iterable_item_added'].keys())\n",
    "if 'values_changed' in diff_expectation:\n",
    "    print(\"---- ITEMS CHANGE EXPECTED ----\")\n",
    "    print(diff_expectation['values_changed'].keys())\n",
    "\n",
    "\n",
    "print(\"\\n\\n\\n---- EXPERIMENT ----\")\n",
    "\n",
    "soup_payload = BeautifulSoup(payload_html, \"html.parser\")\n",
    "diff_payload = DeepDiff(soup_expected, soup_payload)\n",
    "\n",
    "print(diff_payload.keys())\n",
    "if 'iterable_item_removed' in diff_payload:\n",
    "    print(\"---- ITEMS REMOVED ----\")\n",
    "    print(diff_payload['iterable_item_removed'].keys())\n",
    "if 'iterable_item_added' in diff_payload:\n",
    "    print(\"---- ITEMS ADDED ----\")\n",
    "    print(diff_payload['iterable_item_added'].keys())\n",
    "if 'values_changed' in diff_payload:\n",
    "    print(\"---- ITEMS CHANGED ----\")\n",
    "    print(diff_payload['values_changed'].keys())\n",
    "\n"
   ],
   "id": "7577c615deaac0f1",
   "outputs": [
    {
     "name": "stdout",
     "output_type": "stream",
     "text": [
      "dict_keys(['values_changed'])\n",
      "---- ITEMS CHANGE EXPECTED ----\n",
      "dict_keys(['root[0][1][0]'])\n",
      "\n",
      "\n",
      "\n",
      "---- EXPERIMENT ----\n",
      "dict_keys(['values_changed', 'iterable_item_added'])\n",
      "---- ITEMS ADDED ----\n",
      "dict_keys(['root[0][1][1]', 'root[0][1][2]'])\n",
      "---- ITEMS CHANGED ----\n",
      "dict_keys(['root[0][1][0]'])\n"
     ]
    }
   ],
   "execution_count": 16
  }
 ],
 "metadata": {
  "kernelspec": {
   "display_name": "Python 3",
   "language": "python",
   "name": "python3"
  },
  "language_info": {
   "codemirror_mode": {
    "name": "ipython",
    "version": 2
   },
   "file_extension": ".py",
   "mimetype": "text/x-python",
   "name": "python",
   "nbconvert_exporter": "python",
   "pygments_lexer": "ipython2",
   "version": "2.7.6"
  }
 },
 "nbformat": 4,
 "nbformat_minor": 5
}
